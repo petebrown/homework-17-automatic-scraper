{
 "cells": [
  {
   "cell_type": "code",
   "execution_count": 35,
   "id": "af4fd01a",
   "metadata": {},
   "outputs": [],
   "source": [
    "from bs4 import BeautifulSoup\n",
    "import pandas as pd\n",
    "import requests\n",
    "from urllib.parse import urljoin"
   ]
  },
  {
   "cell_type": "code",
   "execution_count": 36,
   "id": "575183e7",
   "metadata": {},
   "outputs": [],
   "source": [
    "url = 'https://buckeyereporter.com/'\n",
    "\n",
    "headers = {\n",
    "    'User-Agent': 'Mozilla/5.0 (Macintosh; Intel Mac OS X 10_15_7) AppleWebKit/537.36 (KHTML, like Gecko) Chrome/103.0.5060.134 Safari/537.36',\n",
    "}\n",
    "\n",
    "r = requests.get(url, headers=headers)\n",
    "\n",
    "doc = BeautifulSoup(r.text)"
   ]
  },
  {
   "cell_type": "code",
   "execution_count": 37,
   "id": "24de08e8",
   "metadata": {},
   "outputs": [],
   "source": [
    "articles = []"
   ]
  },
  {
   "cell_type": "markdown",
   "id": "c4a8b429",
   "metadata": {},
   "source": [
    "# Get FEATURED SECTION"
   ]
  },
  {
   "cell_type": "code",
   "execution_count": 38,
   "id": "cec6d8d7",
   "metadata": {},
   "outputs": [],
   "source": [
    "main_section = doc.select_one('.main__part')\n",
    "\n",
    "section_title = 'Featured'"
   ]
  },
  {
   "cell_type": "markdown",
   "id": "eb8882e0",
   "metadata": {},
   "source": [
    "## Get top story"
   ]
  },
  {
   "cell_type": "code",
   "execution_count": 39,
   "id": "ce0647df",
   "metadata": {},
   "outputs": [],
   "source": [
    "top_story = main_section.select_one('.first-featured-title')\n",
    "\n",
    "headline = top_story.select_one('h2.card-title').text.strip()\n",
    "\n",
    "url = top_story.select_one('h2.card-title a')['href']\n",
    "url = 'https://buckeyereporter.com' + url\n",
    "\n",
    "preview_text = top_story.select_one('p.card-text').text.strip()\n",
    "\n",
    "subsection = top_story.select_one('p.news-preview__label').text.strip()\n",
    "\n",
    "subsection_url = top_story.select_one('p.news-preview__label a')['href']\n",
    "subsection_url = 'https://buckeyereporter.com' + subsection_url\n",
    "\n",
    "author = top_story.select_one('.card-author a').text.strip()\n",
    "    \n",
    "author_url = top_story.select_one('.card-author a')['href']\n",
    "author_url = 'https://buckeyereporter.com' + author_url\n",
    "\n",
    "article = {\n",
    "    'section': section_title,\n",
    "    'headline': headline,\n",
    "    'url': url,\n",
    "    'subsection': subsection,\n",
    "    'subsection_url': subsection_url,\n",
    "    'author': author,\n",
    "    'author_url': author_url,\n",
    "    'article_status': 'top_story',\n",
    "    'preview_text': preview_text\n",
    "}\n",
    "\n",
    "articles.append(article)"
   ]
  },
  {
   "cell_type": "markdown",
   "id": "3c60a76b",
   "metadata": {},
   "source": [
    "## Get second story"
   ]
  },
  {
   "cell_type": "code",
   "execution_count": 40,
   "id": "4e0b1069",
   "metadata": {},
   "outputs": [],
   "source": [
    "second_story = main_section.select_one('.second-featured-title')\n",
    "\n",
    "headline = second_story.select_one('h2.card-title').text.strip()\n",
    "\n",
    "url = second_story.select_one('h2.card-title a')['href']\n",
    "url = 'https://buckeyereporter.com' + url\n",
    "\n",
    "preview_text = second_story.select_one('p.card-text').text.strip()\n",
    "\n",
    "subsection = second_story.select_one('p.news-preview__label').text.strip()\n",
    "\n",
    "subsection_url = second_story.select_one('p.news-preview__label a')['href']\n",
    "subsection_url = 'https://buckeyereporter.com' + subsection_url\n",
    "\n",
    "author = second_story.select_one('.card-author a').text.strip()\n",
    "    \n",
    "author_url = second_story.select_one('.card-author a')['href']\n",
    "author_url = 'https://buckeyereporter.com' + author_url\n",
    "\n",
    "article = {\n",
    "    'section': section_title,\n",
    "    'headline': headline,\n",
    "    'url': url,\n",
    "    'subsection': subsection,\n",
    "    'subsection_url': subsection_url,\n",
    "    'author': author,\n",
    "    'author_url': author_url,\n",
    "    'article_status': 'second_featured_story',\n",
    "    'preview_text': preview_text\n",
    "}\n",
    "\n",
    "articles.append(article)"
   ]
  },
  {
   "cell_type": "markdown",
   "id": "4b0a6368",
   "metadata": {},
   "source": [
    "## Get other featured stories"
   ]
  },
  {
   "cell_type": "code",
   "execution_count": 41,
   "id": "b6ca5896",
   "metadata": {},
   "outputs": [],
   "source": [
    "top_stories = main_section.select('div.news-preview')\n",
    "\n",
    "for story in top_stories:\n",
    "    if 'first-featured-title' in story['class']:\n",
    "        pass\n",
    "    elif 'second-featured-title' in story['class']:\n",
    "        pass\n",
    "    else:\n",
    "        headline = story.select_one('h2.card-title').text.strip()\n",
    "\n",
    "        url = story.select_one('h2.card-title a')['href']\n",
    "        url = 'https://buckeyereporter.com' + url\n",
    "\n",
    "        preview_text = story.select_one('p.card-text').text.strip()\n",
    "\n",
    "        subsection = story.select_one('p.news-preview__label').text.strip()\n",
    "\n",
    "        subsection_url = story.select_one('p.news-preview__label a')['href']\n",
    "        subsection_url = 'https://buckeyereporter.com' + subsection_url\n",
    "        \n",
    "        article = {\n",
    "            'section': section_title,\n",
    "            'headline': headline,\n",
    "            'url': url,\n",
    "            'subsection': subsection,\n",
    "            'subsection_url': subsection_url,\n",
    "            'author': '',\n",
    "            'author_url': '',\n",
    "            'article_status': '',\n",
    "            'preview_text': preview_text\n",
    "        }\n",
    "\n",
    "        articles.append(article)"
   ]
  },
  {
   "cell_type": "markdown",
   "id": "6480741c",
   "metadata": {},
   "source": [
    "## Get rest of featured stories"
   ]
  },
  {
   "cell_type": "code",
   "execution_count": 42,
   "id": "c03b8766",
   "metadata": {},
   "outputs": [],
   "source": [
    "stories = main_section.select('li a')\n",
    "\n",
    "for story in stories:\n",
    "    headline = story.text\n",
    "    url = story['href']\n",
    "    url = 'https://buckeyereporter.com' + url\n",
    "    \n",
    "    article = {\n",
    "        'section': section_title,\n",
    "        'headline': headline,\n",
    "        'url': url,\n",
    "        'subsection': '',\n",
    "        'subsection_url': '',\n",
    "        'author': '',\n",
    "        'author_url': '',\n",
    "        'article_status': '',\n",
    "        'preview_text': ''\n",
    "    }\n",
    "\n",
    "    articles.append(article)"
   ]
  },
  {
   "cell_type": "markdown",
   "id": "8b948707",
   "metadata": {},
   "source": [
    "# Get OPINIONS"
   ]
  },
  {
   "cell_type": "code",
   "execution_count": 43,
   "id": "61cdbc19",
   "metadata": {},
   "outputs": [],
   "source": [
    "# opinion_section = doc.select_one('.sidebar')\n",
    "\n",
    "# section_title = opinion_section.select_one('.section-title').text.strip()\n",
    "\n",
    "# opinion_articles = opinion_section.select('li')\n",
    "\n",
    "# for article in opinion_articles:\n",
    "#     headline = article.select_one('h4 a').text.strip()\n",
    "    \n",
    "#     url = article.select_one('h4 a')['href']\n",
    "#     url = 'https://buckeyereporter.com' + url\n",
    "    \n",
    "#     author = article.select_one('.card-author a').text.strip()\n",
    "    \n",
    "#     author_url = article.select_one('.card-author a')['href']\n",
    "#     author_url = 'https://buckeyereporter.com' + author_url\n",
    "    \n",
    "#     article = {\n",
    "#         'section': section_title,\n",
    "#         'headline': headline,\n",
    "#         'url': url,\n",
    "#         'subsection': '',\n",
    "#         'subsection_url': '',\n",
    "#         'author': author,\n",
    "#         'author_url': author_url,\n",
    "#         'article_status': '',\n",
    "#         'preview_text': ''\n",
    "#     }\n",
    "\n",
    "#     articles.append(article)"
   ]
  },
  {
   "cell_type": "markdown",
   "id": "7037fc4f",
   "metadata": {},
   "source": [
    "# Get Sidebars (Opinions and Trending)"
   ]
  },
  {
   "cell_type": "code",
   "execution_count": 44,
   "id": "d3adba69",
   "metadata": {},
   "outputs": [],
   "source": [
    "# Get SIDEBAR SECTIONS\n",
    "\n",
    "sidebar = doc.select_one('.sidebar')\n",
    "\n",
    "sidebar_sections = sidebar.select('.sidebar__part')\n",
    "\n",
    "for section in sidebar_sections:\n",
    "    section_name = section.select_one('.section-title')\n",
    "    if section_name:\n",
    "        section_title = section_name.text.strip()\n",
    "\n",
    "        section_stories = section.select('li')\n",
    "\n",
    "        for story in section_stories:\n",
    "            headline = story.select_one('a')['title']\n",
    "            url = story.select_one('a')['href']\n",
    "            url = 'https://buckeyereporter.com' + url\n",
    "            author = story.select_one('.card-author a')\n",
    "            if author:\n",
    "                author_url = author['href']\n",
    "                author_url = 'https://buckeyereporter.com' + url\n",
    "                author = author.text.strip()\n",
    "            else:\n",
    "                author_url = ''\n",
    "                author = ''\n",
    "\n",
    "            article = {\n",
    "                'section': section_title,\n",
    "                'headline': headline,\n",
    "                'url': url,\n",
    "                'subsection': '',\n",
    "                'subsection_url': '',\n",
    "                'author': author,\n",
    "                'author_url': author_url,\n",
    "                'article_status': '',\n",
    "                'preview_text': ''\n",
    "            }\n",
    "\n",
    "            articles.append(article)"
   ]
  },
  {
   "cell_type": "markdown",
   "id": "0c14ffa1",
   "metadata": {},
   "source": [
    "# Get DATA POINTS"
   ]
  },
  {
   "cell_type": "code",
   "execution_count": 45,
   "id": "a4d01448",
   "metadata": {},
   "outputs": [],
   "source": [
    "data_points_section = doc.select_one('section.data-points')\n",
    "\n",
    "section_title = data_points_section.select_one('h2.section-title').text.strip()\n",
    "\n",
    "data_point_stories = data_points_section.select('li')\n",
    "\n",
    "for story in data_point_stories:\n",
    "    headline = story.select_one('h4.title a').text.strip()\n",
    "    \n",
    "    url = story.select_one('h4.title a')['href']\n",
    "    url = 'https://buckeyereporter.com' + url\n",
    "    \n",
    "    subsection = story.select_one('p.news-preview__label').text.strip()\n",
    "    \n",
    "    subsection_url = story.select_one('p.news-preview__label a')['href']\n",
    "    subsection_url = 'https://buckeyereporter.com' + subsection_url\n",
    "    \n",
    "    article = {\n",
    "        'section': section_title,\n",
    "        'headline': headline,\n",
    "        'url': url,\n",
    "        'subsection': subsection,\n",
    "        'subsection_url': subsection_url,\n",
    "        'author': '',\n",
    "        'author_url': '',\n",
    "        'article_status': '',\n",
    "        'preview_text': ''\n",
    "    }\n",
    "\n",
    "    articles.append(article)"
   ]
  },
  {
   "cell_type": "markdown",
   "id": "a5bbf332",
   "metadata": {},
   "source": [
    "# Get LATEST NEWS"
   ]
  },
  {
   "cell_type": "code",
   "execution_count": 46,
   "id": "b2932ca1",
   "metadata": {},
   "outputs": [],
   "source": [
    "latest_news = doc.select_one('section .main__part')\n",
    "\n",
    "section_title = latest_news.select_one('.section-title').text.strip()\n",
    "\n",
    "latest_news_stories = latest_news.select('.card-body')\n",
    "\n",
    "for story in latest_news_stories:\n",
    "    subsection = story.select_one('.news-preview__label').text.strip()\n",
    "    \n",
    "    headline = story.select_one('.card-title a').text.strip()\n",
    "    \n",
    "    url = story.select_one('.card-title a')['href']\n",
    "    url = 'https://buckeyereporter.com' + url\n",
    "    \n",
    "    preview_text = story.select_one('.card-text').text.strip()\n",
    "    \n",
    "    article = {\n",
    "        'section': section_title,\n",
    "        'headline': headline,\n",
    "        'url': url,\n",
    "        'subsection': subsection,\n",
    "        'subsection_url': '',\n",
    "        'author': '',\n",
    "        'author_url': '',\n",
    "        'article_status': '',\n",
    "        'preview_text': preview_text\n",
    "    }\n",
    "\n",
    "    articles.append(article)"
   ]
  },
  {
   "cell_type": "markdown",
   "id": "a63a91ed",
   "metadata": {},
   "source": [
    "# Get 'NEWS' sections"
   ]
  },
  {
   "cell_type": "code",
   "execution_count": 47,
   "id": "bffe57f0",
   "metadata": {
    "scrolled": false
   },
   "outputs": [],
   "source": [
    "news_sections = doc.select('div.home-tag-news')\n",
    "section_title = 'News'\n",
    "\n",
    "for news_section in news_sections:\n",
    "    subsection = news_section.select_one('h4').text.strip()\n",
    "    \n",
    "    stories = news_section.select('.news-preview li a')\n",
    "    for story in stories:\n",
    "        headline = story.text.strip()\n",
    "        \n",
    "        url = 'https://buckeyereporter.com' + story['href']\n",
    "        \n",
    "        article = {\n",
    "            'section': section_title,\n",
    "            'headline': headline,\n",
    "            'url': url,\n",
    "            'subsection': subsection,\n",
    "            'subsection_url': '',\n",
    "            'author': '',\n",
    "            'author_url': '',\n",
    "            'article_status': '',\n",
    "            'preview_text': ''\n",
    "        }\n",
    "\n",
    "        articles.append(article)"
   ]
  },
  {
   "cell_type": "code",
   "execution_count": 48,
   "id": "6c1300dc",
   "metadata": {},
   "outputs": [],
   "source": [
    "df = pd.DataFrame(articles)"
   ]
  },
  {
   "cell_type": "code",
   "execution_count": 14,
   "id": "2c12ee6b",
   "metadata": {},
   "outputs": [],
   "source": [
    "df.to_csv('scraped_articles.csv', index=False)"
   ]
  }
 ],
 "metadata": {
  "kernelspec": {
   "display_name": "lede_program",
   "language": "python",
   "name": "lede_program"
  },
  "language_info": {
   "codemirror_mode": {
    "name": "ipython",
    "version": 3
   },
   "file_extension": ".py",
   "mimetype": "text/x-python",
   "name": "python",
   "nbconvert_exporter": "python",
   "pygments_lexer": "ipython3",
   "version": "3.10.3"
  }
 },
 "nbformat": 4,
 "nbformat_minor": 5
}
